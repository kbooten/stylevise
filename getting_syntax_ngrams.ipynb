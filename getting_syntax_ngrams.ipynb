{
 "cells": [
  {
   "cell_type": "markdown",
   "metadata": {},
   "source": [
    "# Style🗜️Vise\n",
    "\n",
    "## A Progymasmaton\n",
    "\n",
    "\n",
    "***"
   ]
  },
  {
   "cell_type": "markdown",
   "metadata": {},
   "source": [
    "### Getting `POS` sequences"
   ]
  },
  {
   "cell_type": "markdown",
   "metadata": {},
   "source": [
    "My goal is to rank POS sequences by their frequency in a large corpus.  Here I'm using a large chunk of the Project Gutenberg corpus as well as some [Amazon review data](https://snap.stanford.edu/data/web-Amazon.html).   \n",
    "\n",
    "I only care about POS sequences, not tokens.  I'm going to get the ngrams of a certain length and then tabulate the most frequent."
   ]
  },
  {
   "cell_type": "code",
   "execution_count": 1,
   "metadata": {
    "collapsed": true
   },
   "outputs": [],
   "source": [
    "import os\n",
    "gb_files = [f for f in os.listdir(\"/Users/kyle/Documents/downloading_gutenberg/data/\") if f.startswith('gb_')]"
   ]
  },
  {
   "cell_type": "code",
   "execution_count": 2,
   "metadata": {},
   "outputs": [
    {
     "data": {
      "text/plain": [
       "19507"
      ]
     },
     "execution_count": 2,
     "metadata": {},
     "output_type": "execute_result"
    }
   ],
   "source": [
    "len(gb_files)"
   ]
  },
  {
   "cell_type": "code",
   "execution_count": 3,
   "metadata": {
    "collapsed": true
   },
   "outputs": [],
   "source": [
    "from tqdm import tqdm\n",
    "import json\n",
    "from collections import defaultdict\n",
    "import random"
   ]
  },
  {
   "cell_type": "code",
   "execution_count": 4,
   "metadata": {
    "collapsed": true
   },
   "outputs": [],
   "source": [
    "import spacy\n",
    "nlp = spacy.load(\"en\")"
   ]
  },
  {
   "cell_type": "markdown",
   "metadata": {},
   "source": [
    "### Gutenberg data"
   ]
  },
  {
   "cell_type": "code",
   "execution_count": 6,
   "metadata": {},
   "outputs": [
    {
     "name": "stderr",
     "output_type": "stream",
     "text": [
      "100%|██████████| 19507/19507 [3:12:30<00:00,  1.69it/s]  \n"
     ]
    }
   ],
   "source": [
    "pos_tagged_sent_with_stringrep_and_filenumber = []\n",
    "from gutenberg.cleanup import strip_headers\n",
    "\n",
    "#for fy in tqdm(random.sample(gb_files,2)):\n",
    "for fy in tqdm(gb_files):\n",
    "    with open(\"/Users/kyle/Documents/downloading_gutenberg/data/\"+fy,'r') as f:\n",
    "        tempdata = f.read()\n",
    "        filenumber = fy.lstrip(\"gb_\").rstrip(\".txt\")\n",
    "        if \"Language: English\" in tempdata[:1000]:  ## make sure english \n",
    "            tempdata = strip_headers(tempdata)\n",
    "            tempspacy = nlp(tempdata[:25000])### limit to first n chars\n",
    "            sents = list(tempspacy.sents)\n",
    "            sents_ok = [sent for sent in sents if (sent.text[0] in 'ABCDEFGHIJKLMNOPQRSTUVWXYZ' and sent.text[-1] in \".?!\")]\n",
    "#            print(len(sents_ok))\n",
    "#             if len(sents_ok)>=100:\n",
    "#                 sents_ok = random.sample(sents_ok,100)\n",
    "            for sent in sents_ok:\n",
    "                tagged = tuple([(i.text,i.tag_) for i in sent])\n",
    "                just_tags = [i.tag_ for i in sent]\n",
    "                pos_tagged_sent_with_stringrep_and_filenumber.append((tagged,sent.text,filenumber))\n"
   ]
  },
  {
   "cell_type": "code",
   "execution_count": 7,
   "metadata": {},
   "outputs": [
    {
     "data": {
      "text/plain": [
       "1236786"
      ]
     },
     "execution_count": 7,
     "metadata": {},
     "output_type": "execute_result"
    }
   ],
   "source": [
    "len(pos_tagged_sent_with_stringrep_and_filenumber)"
   ]
  },
  {
   "cell_type": "code",
   "execution_count": 8,
   "metadata": {},
   "outputs": [
    {
     "name": "stdout",
     "output_type": "stream",
     "text": [
      "((('VIII.--', 'NN'), ('IN', 'IN'), ('WHICH', 'WDT'), ('THE', 'DT'), ('PARSON', 'NNP'), ('AND', 'CC'), ('MR', 'NNP'), ('.', '.')), 'VIII.-- IN WHICH THE PARSON AND MR.', '2068')\n",
      "\n",
      "((('IN', 'IN'), ('WHICH', 'NNP'), ('MR', 'NNP'), ('.', '.')), 'IN WHICH MR.', '2068')\n",
      "\n",
      "((('KEZIAH', 'NNP'), ('HEARS', 'NN'), ('TWO', 'CD'), ('PROPOSALS', 'NNS'), ('AND', 'CC'), ('THE', 'DT'), ('BEGINNING', 'NN'), ('OF', 'IN'), ('A', 'DT'), ('THIRD', 'JJ'), ('\\n\\n\\n', '_SP'), ('Trumet', 'NNP'), ('in', 'IN'), ('a', 'DT'), ('fog', 'NN'), (';', ':'), ('a', 'DT'), ('fog', 'NN'), ('blown', 'VBN'), ('in', 'IN'), ('during', 'IN'), ('the', 'DT'), ('night', 'NN'), ('by', 'IN'), ('the', 'DT'), ('wind', 'NN'), ('from', 'IN'), ('the', 'DT'), ('\\n', '_SP'), ('wide', 'JJ'), ('Atlantic', 'NNP'), ('.', '.')), 'KEZIAH HEARS TWO PROPOSALS AND THE BEGINNING OF A THIRD\\n\\n\\nTrumet in a fog; a fog blown in during the night by the wind from the\\nwide Atlantic.', '2068')\n",
      "\n",
      "((('Hill', 'NNP'), (',', ','), ('where', 'WRB'), ('the', 'DT'), ('beacon', 'NN'), ('was', 'VBD'), ('hoisted', 'VBN'), ('when', 'WRB'), ('the', 'DT'), ('packet', 'NN'), ('from', 'IN'), ('Boston', 'NNP'), ('dropped', 'VBD'), ('\\n', '_SP'), ('anchor', 'NN'), ('in', 'IN'), ('the', 'DT'), ('bay', 'NN'), (',', ','), ('was', 'VBD'), ('shiny', 'JJ'), ('and', 'CC'), ('slippery', 'JJ'), ('.', '.')), 'Hill, where the beacon was hoisted when the packet from Boston dropped\\nanchor in the bay, was shiny and slippery.', '2068')\n",
      "\n"
     ]
    }
   ],
   "source": [
    "for i in pos_tagged_sent_with_stringrep_and_filenumber[:4]:\n",
    "    print(i)\n",
    "    print()"
   ]
  },
  {
   "cell_type": "code",
   "execution_count": 9,
   "metadata": {},
   "outputs": [
    {
     "data": {
      "text/plain": [
       "1236786"
      ]
     },
     "execution_count": 9,
     "metadata": {},
     "output_type": "execute_result"
    }
   ],
   "source": [
    "len(pos_tagged_sent_with_stringrep_and_filenumber)"
   ]
  },
  {
   "cell_type": "markdown",
   "metadata": {},
   "source": [
    "### Amazon data"
   ]
  },
  {
   "cell_type": "code",
   "execution_count": 10,
   "metadata": {
    "collapsed": true
   },
   "outputs": [],
   "source": [
    "urls = [\n",
    "    '/Volumes/extra_data/reviews_Beauty_5.json.gz',\n",
    "    '/Volumes/extra_data/reviews_Home_and_Kitchen_5.json.gz',\n",
    "    '/Volumes/extra_data/reviews_Grocery_and_Gourmet_Food_5.json.gz',\n",
    "    '/Volumes/extra_data/reviews_Sports_and_Outdoors_5.json.gz',\n",
    "]"
   ]
  },
  {
   "cell_type": "code",
   "execution_count": 11,
   "metadata": {
    "collapsed": true
   },
   "outputs": [],
   "source": [
    "amazon_reviews = []\n",
    "\n",
    "import gzip\n",
    "def parse(path): \n",
    "    g = gzip.open(path, 'r') \n",
    "    for l in g: \n",
    "        yield eval(l)"
   ]
  },
  {
   "cell_type": "code",
   "execution_count": 12,
   "metadata": {},
   "outputs": [
    {
     "name": "stderr",
     "output_type": "stream",
     "text": [
      "100%|██████████| 4/4 [6:14:59<00:00, 5624.98s/it]  \n"
     ]
    }
   ],
   "source": [
    "pos_tagged_sent_with_stringrep_amazon = []\n",
    "\n",
    "for url in tqdm(urls):\n",
    "    c=0\n",
    "    x = parse(url)\n",
    "    #for i in tqdm(x):\n",
    "    for i in x:\n",
    "        review = nlp(i['reviewText'])\n",
    "        try:\n",
    "            sents = list(review.sents)\n",
    "            sents_ok = [sent for sent in sents if (sent.text[0] in 'ABCDEFGHIJKLMNOPQRSTUVWXYZ' and sent.text[-1] in \".?!\")]\n",
    "            sent = random.choice(sents_ok)\n",
    "            tagged = tuple([(i.text,i.tag_) for i in sent])\n",
    "            pos_tagged_sent_with_stringrep_amazon.append((tagged,sent.text))\n",
    "            c+=1\n",
    "        except:\n",
    "            pass\n",
    "#         if c>50: ## max number\n",
    "#             print(\"break!\")\n",
    "#             break"
   ]
  },
  {
   "cell_type": "code",
   "execution_count": 13,
   "metadata": {},
   "outputs": [
    {
     "data": {
      "text/plain": [
       "1082472"
      ]
     },
     "execution_count": 13,
     "metadata": {},
     "output_type": "execute_result"
    }
   ],
   "source": [
    "len(pos_tagged_sent_with_stringrep_amazon)"
   ]
  },
  {
   "cell_type": "markdown",
   "metadata": {},
   "source": [
    "## Build Distribution of N-Grams"
   ]
  },
  {
   "cell_type": "code",
   "execution_count": 14,
   "metadata": {
    "collapsed": true
   },
   "outputs": [],
   "source": [
    "gramlength = 7"
   ]
  },
  {
   "cell_type": "code",
   "execution_count": 15,
   "metadata": {
    "collapsed": true
   },
   "outputs": [],
   "source": [
    "from nltk import ngrams"
   ]
  },
  {
   "cell_type": "code",
   "execution_count": 16,
   "metadata": {
    "scrolled": true
   },
   "outputs": [
    {
     "name": "stderr",
     "output_type": "stream",
     "text": [
      "100%|██████████| 1236786/1236786 [00:56<00:00, 21914.95it/s]\n"
     ]
    }
   ],
   "source": [
    "gram2sents = defaultdict(list)\n",
    "grams2ids = defaultdict(list)\n",
    "\n",
    "for tagged,astring,fileid in tqdm(pos_tagged_sent_with_stringrep_and_filenumber):\n",
    "    if len(tagged)<20:\n",
    "        tagged = [(token,tag) for token,tag in tagged if tag!=\"_SP\"]\n",
    "        just_tags = tuple([tag for token,tag in tagged])\n",
    "        if len(just_tags)<=gramlength:\n",
    "            if fileid not in grams2ids[just_tags]:\n",
    "                gram2sents[just_tags].append(astring)\n",
    "                grams2ids[just_tags].append(fileid)\n",
    "        else:\n",
    "            grams = list(ngrams(just_tags,gramlength))\n",
    "            for g in grams:\n",
    "                g = tuple(g)\n",
    "                if fileid not in grams2ids[g]:\n",
    "                    gram2sents[g].append(astring)\n",
    "                    grams2ids[g].append(fileid)           \n",
    "\n"
   ]
  },
  {
   "cell_type": "code",
   "execution_count": 17,
   "metadata": {},
   "outputs": [
    {
     "data": {
      "text/plain": [
       "1612446"
      ]
     },
     "execution_count": 17,
     "metadata": {},
     "output_type": "execute_result"
    }
   ],
   "source": [
    "len(gram2sents.keys())"
   ]
  },
  {
   "cell_type": "code",
   "execution_count": 18,
   "metadata": {
    "collapsed": true
   },
   "outputs": [],
   "source": [
    "#pos_tagged_sent_with_stringrep_amazon[0]"
   ]
  },
  {
   "cell_type": "code",
   "execution_count": 19,
   "metadata": {
    "scrolled": true
   },
   "outputs": [
    {
     "name": "stderr",
     "output_type": "stream",
     "text": [
      "100%|██████████| 1082472/1082472 [00:53<00:00, 20189.11it/s]\n"
     ]
    }
   ],
   "source": [
    "for tagged,astring in tqdm(pos_tagged_sent_with_stringrep_amazon):\n",
    "    if len(tagged)<20:\n",
    "        tagged = [(token,tag) for token,tag in tagged if tag!=\"_SP\"]\n",
    "        just_tags = tuple([tag for token,tag in tagged])\n",
    "        if len(just_tags)<=gramlength:\n",
    "            gram2sents[just_tags].append(astring)\n",
    "            #grams2ids[just_tags].append(fileid)\n",
    "        else:\n",
    "            grams = list(ngrams(just_tags,gramlength))\n",
    "            for g in grams:\n",
    "                g = tuple(g)\n",
    "                gram2sents[g].append(astring)    "
   ]
  },
  {
   "cell_type": "code",
   "execution_count": 20,
   "metadata": {},
   "outputs": [
    {
     "data": {
      "text/plain": [
       "3462425"
      ]
     },
     "execution_count": 20,
     "metadata": {},
     "output_type": "execute_result"
    }
   ],
   "source": [
    "len(list(gram2sents.keys()))"
   ]
  },
  {
   "cell_type": "code",
   "execution_count": 21,
   "metadata": {
    "collapsed": true
   },
   "outputs": [],
   "source": [
    "gram_and_count = [(key,len(list(set(values)))) for key,values in gram2sents.items()]"
   ]
  },
  {
   "cell_type": "code",
   "execution_count": 22,
   "metadata": {
    "collapsed": true
   },
   "outputs": [],
   "source": [
    "gram_and_count.sort(key=lambda x:x[1], reverse=True)"
   ]
  },
  {
   "cell_type": "code",
   "execution_count": 23,
   "metadata": {},
   "outputs": [
    {
     "data": {
      "text/plain": [
       "[(('IN', 'DT', 'NN', 'IN', 'DT', 'NN', '.'), 4019),\n",
       " (('DT', 'JJ', 'NN', 'IN', 'DT', 'NN', '.'), 3479),\n",
       " (('NNP', '.'), 3177),\n",
       " (('NNP', 'NNP', '.'), 3139),\n",
       " (('JJ', 'NN', '.'), 2557),\n",
       " (('DT', 'NN', 'IN', 'DT', 'JJ', 'NN', '.'), 2238),\n",
       " (('DT', 'JJ', 'NN', 'IN', 'DT', 'JJ', 'NN'), 2115),\n",
       " (('JJ', 'NN', 'IN', 'DT', 'JJ', 'NN', '.'), 1995),\n",
       " (('NN', 'IN', 'DT', 'NN', 'IN', 'DT', 'NN'), 1972),\n",
       " (('IN', 'DT', 'JJ', 'NN', 'IN', 'DT', 'NN'), 1884),\n",
       " (('PRP', 'VBP', 'RB', 'JJ', 'IN', 'DT', 'NN'), 1783),\n",
       " (('IN', 'DT', 'NN', 'IN', 'DT', 'JJ', 'NN'), 1702),\n",
       " (('VBZ', 'DT', 'JJ', 'NN', 'IN', 'DT', 'NN'), 1520),\n",
       " (('DT', 'NN', 'VBZ', 'JJ', '.'), 1458),\n",
       " (('PRP', 'MD', 'RB', 'VB', 'DT', 'NN', 'IN'), 1421),\n",
       " (('DT', 'NN', 'IN', 'DT', 'NN', 'IN', 'DT'), 1363),\n",
       " (('IN', 'DT', 'NN', 'IN', 'PRP$', 'NN', '.'), 1340),\n",
       " (('DT', 'JJ', 'NN', 'IN', 'PRP$', 'NN', '.'), 1304),\n",
       " (('PRP', 'VBD', 'DT', 'NN', 'IN', 'DT', 'NN'), 1288),\n",
       " (('DT', 'JJ', 'NN', 'IN', 'DT', 'NN', 'IN'), 1284)]"
      ]
     },
     "execution_count": 23,
     "metadata": {},
     "output_type": "execute_result"
    }
   ],
   "source": [
    "gram_and_count[:20]"
   ]
  },
  {
   "cell_type": "markdown",
   "metadata": {},
   "source": [
    "### Plot\n",
    "\n",
    "I want to divide the part-of-speech n-grams into groups of `EASY` (most common), `MEDIUM`, `HARD`, `EXPERT`, and `EVIL` (rarest).  I'll just kind of eyeball this by looking at the distribution, which should be basically Zipfian. But I'll really have to just try out the progymnasmaton itself in order to see if I think it is too easy/too hard."
   ]
  },
  {
   "cell_type": "code",
   "execution_count": 24,
   "metadata": {
    "collapsed": true
   },
   "outputs": [],
   "source": [
    "import matplotlib\n",
    "import numpy as np\n",
    "import matplotlib.pyplot as plt\n",
    "%matplotlib inline  "
   ]
  },
  {
   "cell_type": "code",
   "execution_count": 25,
   "metadata": {},
   "outputs": [
    {
     "data": {
      "text/plain": [
       "[4019, 3479, 3177]"
      ]
     },
     "execution_count": 25,
     "metadata": {},
     "output_type": "execute_result"
    }
   ],
   "source": [
    "yvalues = [b for a,b in gram_and_count]\n",
    "yvalues[:3]"
   ]
  },
  {
   "cell_type": "markdown",
   "metadata": {},
   "source": [
    "Plot on log scale."
   ]
  },
  {
   "cell_type": "code",
   "execution_count": 26,
   "metadata": {},
   "outputs": [
    {
     "data": {
      "image/png": "[encoded data removed]",
      "text/plain": [
       "<Figure size 432x288 with 1 Axes>"
      ]
     },
     "metadata": {
      "needs_background": "light"
     },
     "output_type": "display_data"
    }
   ],
   "source": [
    "plt.plot([y for y in yvalues if y>=2])\n",
    "plt.yscale('log')\n",
    "plt.xscale('log')\n",
    "plt.show()"
   ]
  },
  {
   "cell_type": "markdown",
   "metadata": {},
   "source": [
    "Yep, looks pretty Zipfian.\n",
    "\n",
    "Now to divide them up."
   ]
  },
  {
   "cell_type": "code",
   "execution_count": 27,
   "metadata": {},
   "outputs": [
    {
     "data": {
      "image/png": "[encoded data removed]",
      "text/plain": [
       "<Figure size 432x288 with 1 Axes>"
      ]
     },
     "metadata": {
      "needs_background": "light"
     },
     "output_type": "display_data"
    }
   ],
   "source": [
    "plt.plot([y for y in yvalues if y>=50])\n",
    "plt.show()"
   ]
  },
  {
   "cell_type": "code",
   "execution_count": 28,
   "metadata": {},
   "outputs": [
    {
     "data": {
      "image/png": "[encoded data removed]",
      "text/plain": [
       "<Figure size 432x288 with 1 Axes>"
      ]
     },
     "metadata": {
      "needs_background": "light"
     },
     "output_type": "display_data"
    }
   ],
   "source": [
    "plt.plot([y for y in yvalues if 50>y>20])\n",
    "plt.show()"
   ]
  },
  {
   "cell_type": "code",
   "execution_count": 29,
   "metadata": {},
   "outputs": [
    {
     "data": {
      "image/png": "[encoded data removed]",
      "text/plain": [
       "<Figure size 432x288 with 1 Axes>"
      ]
     },
     "metadata": {
      "needs_background": "light"
     },
     "output_type": "display_data"
    }
   ],
   "source": [
    "plt.plot([y for y in yvalues if 20>y>10])\n",
    "plt.show()"
   ]
  },
  {
   "cell_type": "code",
   "execution_count": 30,
   "metadata": {},
   "outputs": [
    {
     "data": {
      "image/png": "[encoded data removed]",
      "text/plain": [
       "<Figure size 432x288 with 1 Axes>"
      ]
     },
     "metadata": {
      "needs_background": "light"
     },
     "output_type": "display_data"
    }
   ],
   "source": [
    "plt.plot([y for y in yvalues if 10>y>3])\n",
    "plt.show()"
   ]
  },
  {
   "cell_type": "code",
   "execution_count": 31,
   "metadata": {},
   "outputs": [
    {
     "data": {
      "image/png": "[encoded data removed]",
      "text/plain": [
       "<Figure size 432x288 with 1 Axes>"
      ]
     },
     "metadata": {
      "needs_background": "light"
     },
     "output_type": "display_data"
    }
   ],
   "source": [
    "plt.plot([y for y in yvalues if 3>y>1])\n",
    "plt.show()"
   ]
  },
  {
   "cell_type": "code",
   "execution_count": 32,
   "metadata": {
    "collapsed": true
   },
   "outputs": [],
   "source": [
    "OUTPUT = {\n",
    "    0:[],\n",
    "    1:[],\n",
    "    2:[],\n",
    "    3:[],\n",
    "    4:[],\n",
    "}"
   ]
  },
  {
   "cell_type": "code",
   "execution_count": 33,
   "metadata": {
    "collapsed": true
   },
   "outputs": [],
   "source": [
    "for gram,count in gram_and_count:\n",
    "    if count>50:\n",
    "        OUTPUT[0].append(gram)\n",
    "    elif count>20:\n",
    "        OUTPUT[1].append(gram)\n",
    "    elif count>10:\n",
    "        OUTPUT[2].append(gram)\n",
    "    elif count>3:\n",
    "        OUTPUT[3].append(gram)\n",
    "    elif count>1:\n",
    "        OUTPUT[4].append(gram)\n"
   ]
  },
  {
   "cell_type": "code",
   "execution_count": 34,
   "metadata": {
    "collapsed": true
   },
   "outputs": [],
   "source": [
    "with open(\"easy_medium_hard_expert_evil.json\",\"w\") as f:\n",
    "    json.dump(OUTPUT,f)"
   ]
  },
  {
   "cell_type": "markdown",
   "metadata": {},
   "source": [
    "***"
   ]
  }
 ],
 "metadata": {
  "kernelspec": {
   "display_name": "Python (stylevise)",
   "language": "python",
   "name": "stylevise"
  },
  "language_info": {
   "codemirror_mode": {
    "name": "ipython",
    "version": 3
   },
   "file_extension": ".py",
   "mimetype": "text/x-python",
   "name": "python",
   "nbconvert_exporter": "python",
   "pygments_lexer": "ipython3",
   "version": "3.7.3"
  }
 },
 "nbformat": 4,
 "nbformat_minor": 2
}
